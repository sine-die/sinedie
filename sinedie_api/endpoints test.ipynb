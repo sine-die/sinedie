{
 "cells": [
  {
   "cell_type": "code",
   "execution_count": 11,
   "metadata": {},
   "outputs": [
    {
     "name": "stdout",
     "output_type": "stream",
     "text": [
      "<Response [200]>\n",
      "0y80liyes7vsU4IWLZ2PukJZgcSvJV6ji44SjZQTzTeqCQ5IGgjCb3gyZ8Ykd6eG\n"
     ]
    }
   ],
   "source": [
    "import sys\n",
    "import requests\n",
    "\n",
    "URL = 'http://localhost:8000/accounts/login/'\n",
    "EMAIL = 'nuria'\n",
    "PASSWORD = 'nuria'\n",
    "\n",
    "client = requests.session()\n",
    "\n",
    "# Retrieve the CSRF token first\n",
    "response = client.get(URL)  # sets cookie\n",
    "print(response)\n",
    "if 'csrftoken' in client.cookies:\n",
    "    # Django 1.6 and up\n",
    "    csrftoken = client.cookies['csrftoken']\n",
    "    print(csrftoken)\n",
    "else:\n",
    "    # older versions\n",
    "    csrftoken = client.cookies['csrf']\n",
    "\n",
    "login_data = dict(username=EMAIL, password=PASSWORD, csrfmiddlewaretoken=csrftoken, next='/')\n",
    "r = client.post(URL, data=login_data, headers=dict(Referer=URL))"
   ]
  },
  {
   "cell_type": "code",
   "execution_count": 12,
   "metadata": {},
   "outputs": [
    {
     "data": {
      "text/plain": [
       "<Response [404]>"
      ]
     },
     "execution_count": 12,
     "metadata": {},
     "output_type": "execute_result"
    }
   ],
   "source": [
    "r"
   ]
  },
  {
   "cell_type": "code",
   "execution_count": null,
   "metadata": {},
   "outputs": [],
   "source": []
  }
 ],
 "metadata": {
  "kernelspec": {
   "display_name": "Python 3",
   "language": "python",
   "name": "python3"
  },
  "language_info": {
   "codemirror_mode": {
    "name": "ipython",
    "version": 3
   },
   "file_extension": ".py",
   "mimetype": "text/x-python",
   "name": "python",
   "nbconvert_exporter": "python",
   "pygments_lexer": "ipython3",
   "version": "3.7.0"
  }
 },
 "nbformat": 4,
 "nbformat_minor": 4
}
