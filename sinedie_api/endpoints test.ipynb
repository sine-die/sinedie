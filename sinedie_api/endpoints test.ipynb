{
 "cells": [
  {
   "cell_type": "code",
   "execution_count": null,
   "metadata": {},
   "outputs": [],
   "source": [
    "import sys\n",
    "import requests\n",
    "import json\n",
    "\n",
    "URL = 'http://localhost:8000/'\n",
    "EMAIL = 'nuria'\n",
    "PASSWORD = 'nuria'\n",
    "\n",
    "client = requests.session()\n",
    "client.headers.update({'Accept': 'application/json'})\n",
    "r1 = client.post(URL+'rest-auth/login/', data={'username':EMAIL, 'password':PASSWORD})\n",
    "print('1. headers', r1.headers)\n",
    "print('1. text', r1.text)\n",
    "token = json.loads(r1.text)['key']\n",
    "client.headers.update(\n",
    "    {\n",
    "        'Cookie': 'csrftoken='+client.cookies['csrftoken'],\n",
    "        'X-CSRFToken': client.cookies['csrftoken'],\n",
    "        'Authorization': 'Token '+ token \n",
    "    }\n",
    ")\n"
   ]
  },
  {
   "cell_type": "code",
   "execution_count": null,
   "metadata": {},
   "outputs": [],
   "source": [
    "# GET ALL BUSINESS\n",
    "r = client.get(\n",
    "    'http://localhost:8000/business/'\n",
    ")\n",
    "print(r.text)"
   ]
  },
  {
   "cell_type": "code",
   "execution_count": null,
   "metadata": {},
   "outputs": [],
   "source": [
    "# CREATE A BUSINESS\n",
    "import json\n",
    "\n",
    "data = json.dumps({\n",
    "    \"name\": \"Nur\",\n",
    "    \"username\": \"nuria.rodriguez09@estudiant.upf.edu\",\n",
    "    \"email\": \"nuria.rodriguez09@estudiant.upf.edu\",\n",
    "    \"password\": \"password\",\n",
    "    \"is_business\": True,\n",
    "    \"address\": \"C/Lala 123\",\n",
    "    \"max_capacity\": 10,\n",
    "    \"cur_capacity\": 0,\n",
    "    \"business_type\": 0,\n",
    "    \"description\": \"Descripcio\"\n",
    "})\n",
    "r = client.post(\n",
    "    'http://localhost:8000/business/',\n",
    "    data=data,\n",
    "    headers={\n",
    "        'Content-Type': 'application/json'\n",
    "    }\n",
    ")\n",
    "print(r.text)"
   ]
  },
  {
   "cell_type": "code",
   "execution_count": null,
   "metadata": {},
   "outputs": [],
   "source": [
    "# UPDATE A BUSINESS ** en el cas de fer PUT cal especificar totes les columnes\n",
    "data = json.dumps({\n",
    "    \"name\": \"Nur\",\n",
    "    \"username\": \"nu@upf.edu\",\n",
    "    \"email\": \"nu@upf.edu\",\n",
    "})\n",
    "r = client.patch(\n",
    "    'http://localhost:8000/business/2/',\n",
    "    data=data,\n",
    "    headers={\n",
    "        'Content-Type': 'application/json'\n",
    "    }\n",
    ")\n",
    "print(r.text)"
   ]
  },
  {
   "cell_type": "code",
   "execution_count": null,
   "metadata": {},
   "outputs": [],
   "source": [
    "# GET ALL BOOKINGS FOR A BUSINESS\n",
    "r = client.get(\n",
    "    'http://localhost:8000/business/2/bookings/'\n",
    ")\n",
    "print(r.text)"
   ]
  },
  {
   "cell_type": "code",
   "execution_count": null,
   "metadata": {},
   "outputs": [],
   "source": [
    "# CREATE A BOOKING FOR A BUSINESS\n",
    "data = json.dumps({\n",
    "    'client': 1,\n",
    "    #'business': 1,\n",
    "    'date': '2020-06-30',\n",
    "    'time': '20:30'\n",
    "})\n",
    "r = client.post(\n",
    "    'http://localhost:8000/business/2/bookings/',\n",
    "    data=data,\n",
    "    headers={\n",
    "        'Content-Type': 'application/json'\n",
    "    }\n",
    ")\n",
    "print(r.text)"
   ]
  },
  {
   "cell_type": "code",
   "execution_count": null,
   "metadata": {},
   "outputs": [],
   "source": [
    "# GET A BOOKING\n",
    "r = client.get(\n",
    "    'http://localhost:8000/business/2/bookings/1',\n",
    ")\n",
    "print(r.text)"
   ]
  },
  {
   "cell_type": "code",
   "execution_count": null,
   "metadata": {},
   "outputs": [],
   "source": [
    "# UPDATE A BOOKING \n",
    "data = json.dumps({\n",
    "    'date': '2020-06-30',\n",
    "    'time': '21:45'\n",
    "})\n",
    "r = client.put(\n",
    "    'http://localhost:8000/business/2/bookings/1/',\n",
    "    data=data,\n",
    "    headers={\n",
    "        'Content-Type': 'application/json'\n",
    "    }\n",
    ")\n",
    "print(r.text)"
   ]
  },
  {
   "cell_type": "code",
   "execution_count": null,
   "metadata": {},
   "outputs": [],
   "source": [
    "# GET QUEUE\n",
    "r = client.get(\n",
    "    'http://localhost:8000/business/1/queue/',\n",
    ")\n",
    "print(r.text)"
   ]
  },
  {
   "cell_type": "code",
   "execution_count": null,
   "metadata": {},
   "outputs": [],
   "source": [
    "# ADD TO QUEUE\n",
    "data = json.dumps({\n",
    "    'client': 1,\n",
    "    'notes': 'taula a la terrassa'\n",
    "})\n",
    "r = client.post(\n",
    "    'http://localhost:8000/business/1/queue/',\n",
    "    data=data,\n",
    "    headers={\n",
    "        'Content-Type': 'application/json'\n",
    "    }\n",
    ")\n",
    "print(r.text)"
   ]
  },
  {
   "cell_type": "code",
   "execution_count": null,
   "metadata": {},
   "outputs": [],
   "source": [
    "# POP FROM QUEUE\n",
    "r = client.get(\n",
    "    'http://localhost:8000/business/1/queue/pop/1/',\n",
    ")\n",
    "print(r.text)"
   ]
  },
  {
   "cell_type": "code",
   "execution_count": null,
   "metadata": {},
   "outputs": [],
   "source": [
    "# GET BUSINESS CAPACITY\n",
    "r = client.get(\n",
    "    'http://localhost:8000/business/1/capacity/',\n",
    ")\n",
    "print(r.text)"
   ]
  },
  {
   "cell_type": "code",
   "execution_count": null,
   "metadata": {},
   "outputs": [],
   "source": [
    "# Increase current capacity\n",
    "r = client.post(\n",
    "    'http://localhost:8000/business/1/capacity/',\n",
    "    data={'decrease': 1}\n",
    ")\n",
    "print(r.text)"
   ]
  },
  {
   "cell_type": "code",
   "execution_count": null,
   "metadata": {},
   "outputs": [],
   "source": []
  }
 ],
 "metadata": {
  "kernelspec": {
   "display_name": "Python 3",
   "language": "python",
   "name": "python3"
  },
  "language_info": {
   "codemirror_mode": {
    "name": "ipython",
    "version": 3
   },
   "file_extension": ".py",
   "mimetype": "text/x-python",
   "name": "python",
   "nbconvert_exporter": "python",
   "pygments_lexer": "ipython3",
   "version": "3.7.0"
  }
 },
 "nbformat": 4,
 "nbformat_minor": 4
}
